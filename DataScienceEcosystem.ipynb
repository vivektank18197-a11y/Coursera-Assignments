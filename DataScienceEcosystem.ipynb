{
 "cells": [
  {
   "cell_type": "markdown",
   "id": "8bfddf06-cbc0-45e0-b57a-efe2c59126e9",
   "metadata": {},
   "source": [
    "# Data Science Tools and Ecosystem"
   ]
  },
  {
   "cell_type": "markdown",
   "id": "fa2d822f-53a8-4a7e-8881-52d49095fc74",
   "metadata": {},
   "source": [
    "In this notebook, Data Science Tools and Ecosystem are summarized."
   ]
  },
  {
   "cell_type": "markdown",
   "id": "1eee2b9c-67cb-4559-b196-8c3f84eb4159",
   "metadata": {},
   "source": [
    "**Objectives**\n",
    "- MySQL\n",
    "- Python\n",
    "- R\n",
    "- Julia"
   ]
  },
  {
   "cell_type": "markdown",
   "id": "7add712e-6a7f-48fd-9cc9-b52915b2eccd",
   "metadata": {},
   "source": [
    "Some of the popular languages that Data Scientists use are:\n",
    "1. MySQL\n",
    "2. Python\n",
    "3. R\n",
    "4. Julia"
   ]
  },
  {
   "cell_type": "markdown",
   "id": "5fa07b42-3ae9-47be-addf-7b29f6725c82",
   "metadata": {},
   "source": [
    "Some of the commonly used libraries used by Data Scientists include:\n",
    "- Pandas\n",
    "- Numpy\n",
    "- Matplotlib\n",
    "- Ploty"
   ]
  },
  {
   "cell_type": "markdown",
   "id": "2f52e2d3-d20a-4d18-9b9c-0c92b9a7b8fc",
   "metadata": {},
   "source": [
    "| Data Science Tools |\n",
    "|--------------------|\n",
    "| Jupyter NoteBook |\n",
    "| Jupyter Lab |\n",
    "| Google Colab |"
   ]
  },
  {
   "cell_type": "markdown",
   "id": "efeb6e37-1816-48d2-b83a-07575ac5cb6e",
   "metadata": {},
   "source": [
    "### Below are a few examples of evaluating arithmetic expressions in Python"
   ]
  },
  {
   "cell_type": "code",
   "execution_count": 1,
   "id": "a7229e8d-4b10-4adb-90db-a790f2b64ecc",
   "metadata": {},
   "outputs": [
    {
     "data": {
      "text/plain": [
       "17"
      ]
     },
     "execution_count": 1,
     "metadata": {},
     "output_type": "execute_result"
    }
   ],
   "source": [
    "# This a simple arithmetic expression to mutiply then add integers\n",
    "(3*4)+5"
   ]
  },
  {
   "cell_type": "code",
   "execution_count": 5,
   "id": "2643c2ec-2756-40db-8425-f1c755f9ab44",
   "metadata": {},
   "outputs": [
    {
     "name": "stdout",
     "output_type": "stream",
     "text": [
      "3.3333333333333335 hour\n"
     ]
    }
   ],
   "source": [
    "# This will convert 200 minutes to hours by diving by 60\n",
    "hour = str(200/60)\n",
    "print (hour + \" hour\")"
   ]
  },
  {
   "cell_type": "markdown",
   "id": "564cdf9c-e2f7-42f8-8449-5bfeea6e5281",
   "metadata": {},
   "source": [
    "## Author\n",
    "Vivek Tank"
   ]
  },
  {
   "cell_type": "code",
   "execution_count": null,
   "id": "89d40e52-ec56-471b-991f-740722fbea15",
   "metadata": {},
   "outputs": [],
   "source": []
  }
 ],
 "metadata": {
  "kernelspec": {
   "display_name": "Python 3 (ipykernel)",
   "language": "python",
   "name": "python3"
  },
  "language_info": {
   "codemirror_mode": {
    "name": "ipython",
    "version": 3
   },
   "file_extension": ".py",
   "mimetype": "text/x-python",
   "name": "python",
   "nbconvert_exporter": "python",
   "pygments_lexer": "ipython3",
   "version": "3.13.5"
  }
 },
 "nbformat": 4,
 "nbformat_minor": 5
}
